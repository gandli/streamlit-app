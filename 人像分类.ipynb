{
 "cells": [
  {
   "cell_type": "code",
   "execution_count": null,
   "metadata": {},
   "outputs": [],
   "source": [
    "# 导入必要的库\n",
    "import numpy as np\n",
    "from sklearn.datasets import fetch_lfw_people\n",
    "from sklearn.preprocessing import StandardScaler\n",
    "from sklearn.svm import SVC\n",
    "from sklearn.model_selection import train_test_split\n",
    "from sklearn.metrics import classification_report, accuracy_score\n",
    "import joblib\n",
    "\n",
    "# 定义数据加载函数\n",
    "def load_data(path):\n",
    "    \"\"\"加载数据集\"\"\"\n",
    "    return fetch_lfw_people(data_home=path, min_faces_per_person=60, resize=0.4)\n",
    "\n",
    "# 加载数据\n",
    "faces = load_data(\"data/lfw_funneled\")\n",
    "\n",
    "# 准备数据\n",
    "X = faces.data\n",
    "y = faces.target\n",
    "\n",
    "# 划分训练集和测试集\n",
    "X_train, X_test, y_train, y_test = train_test_split(X, y, test_size=0.25, random_state=42)\n",
    "\n",
    "# 训练 SVM 模型\n",
    "scaler = StandardScaler()\n",
    "X_train_scaled = scaler.fit_transform(X_train)\n",
    "svm_clf = SVC(kernel=\"linear\", class_weight=\"balanced\", random_state=42)\n",
    "svm_clf.fit(X_train_scaled, y_train)\n",
    "\n",
    "# 模型评估\n",
    "X_test_scaled = scaler.transform(X_test)\n",
    "y_pred = svm_clf.predict(X_test_scaled)\n",
    "print(\"分类报告:\")\n",
    "print(classification_report(y_test, y_pred, target_names=faces.target_names))\n",
    "accuracy = accuracy_score(y_test, y_pred)\n",
    "print(f\"准确率: {accuracy:.2%}\")\n",
    "\n",
    "# 保存模型\n",
    "joblib.dump(svm_clf, 'data/svm_clf_model.joblib')\n",
    "joblib.dump(scaler, 'data/scaler_model.joblib')\n",
    "\n",
    "print(\"模型已保存到 'data' 目录下。\")"
   ]
  }
 ],
 "metadata": {
  "kernelspec": {
   "display_name": ".venv",
   "language": "python",
   "name": "python3"
  },
  "language_info": {
   "name": "python",
   "version": "3.10.11"
  }
 },
 "nbformat": 4,
 "nbformat_minor": 2
}

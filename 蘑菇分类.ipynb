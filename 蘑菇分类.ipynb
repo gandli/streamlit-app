{
 "cells": [
  {
   "cell_type": "markdown",
   "metadata": {},
   "source": [
    "# 蘑菇分类模型的训练和保存\n",
    "\n",
    "本笔记本演示了在 Mushroom 数据集上训练 RandomForest 模型、在测试集上验证模型以及将训练好的模型保存到 `data` 目录的过程。"
   ]
  },
  {
   "cell_type": "code",
   "execution_count": 7,
   "metadata": {},
   "outputs": [],
   "source": [
    "# 加载必要的库\n",
    "import pandas as pd\n",
    "import warnings\n",
    "warnings.filterwarnings('ignore')"
   ]
  },
  {
   "cell_type": "markdown",
   "metadata": {},
   "source": [
    "## 阶段 1: 加载数据集\n",
    "在这一阶段，我们将加载训练数据集和测试数据集，并显示它们的基本信息。"
   ]
  },
  {
   "cell_type": "code",
   "execution_count": 8,
   "metadata": {},
   "outputs": [
    {
     "name": "stdout",
     "output_type": "stream",
     "text": [
      "加载数据集...\n",
      "训练数据集样本数量: 8000\n",
      "测试数据集样本数量: 124\n"
     ]
    },
    {
     "data": {
      "text/plain": [
       "(  class cap-shape cap-surface cap-color bruises odor gill-attachment  \\\n",
       " 0     p         x           s         w       f    c               f   \n",
       " 1     p         x           s         e       f    s               f   \n",
       " 2     p         k           s         e       f    y               f   \n",
       " 3     p         f           f         g       f    f               f   \n",
       " 4     e         f           f         n       f    n               f   \n",
       " \n",
       "   gill-spacing gill-size gill-color  ... stalk-surface-below-ring  \\\n",
       " 0            c         n          p  ...                        s   \n",
       " 1            c         n          b  ...                        k   \n",
       " 2            c         n          b  ...                        s   \n",
       " 3            c         b          p  ...                        k   \n",
       " 4            w         b          h  ...                        s   \n",
       " \n",
       "   stalk-color-above-ring stalk-color-below-ring veil-type veil-color  \\\n",
       " 0                      w                      w         p          w   \n",
       " 1                      w                      w         p          w   \n",
       " 2                      p                      p         p          w   \n",
       " 3                      b                      n         p          w   \n",
       " 4                      w                      w         p          w   \n",
       " \n",
       "   ring-number ring-type spore-print-color population habitat  \n",
       " 0           o         p                 n          s       d  \n",
       " 1           o         e                 w          v       p  \n",
       " 2           o         e                 w          v       d  \n",
       " 3           o         l                 h          y       g  \n",
       " 4           o         e                 k          s       g  \n",
       " \n",
       " [5 rows x 23 columns],\n",
       "   class cap-shape cap-surface cap-color bruises odor gill-attachment  \\\n",
       " 0     e         x           s         g       f    n               f   \n",
       " 1     p         f           y         g       f    f               f   \n",
       " 2     p         x           s         w       f    c               f   \n",
       " 3     e         b           s         w       t    a               f   \n",
       " 4     p         x           s         n       f    y               f   \n",
       " \n",
       "   gill-spacing gill-size gill-color  ... stalk-surface-below-ring  \\\n",
       " 0            w         b          w  ...                        k   \n",
       " 1            c         b          g  ...                        k   \n",
       " 2            w         n          p  ...                        s   \n",
       " 3            c         b          k  ...                        s   \n",
       " 4            c         n          b  ...                        s   \n",
       " \n",
       "   stalk-color-above-ring stalk-color-below-ring veil-type veil-color  \\\n",
       " 0                      w                      w         p          w   \n",
       " 1                      n                      n         p          w   \n",
       " 2                      w                      w         p          w   \n",
       " 3                      w                      w         p          w   \n",
       " 4                      w                      w         p          w   \n",
       " \n",
       "   ring-number ring-type spore-print-color population habitat  \n",
       " 0           t         p                 w          s       g  \n",
       " 1           o         l                 h          y       g  \n",
       " 2           o         p                 n          s       d  \n",
       " 3           o         p                 k          n       m  \n",
       " 4           o         e                 w          v       d  \n",
       " \n",
       " [5 rows x 23 columns])"
      ]
     },
     "execution_count": 8,
     "metadata": {},
     "output_type": "execute_result"
    }
   ],
   "source": [
    "print(\"加载数据集...\")\n",
    "df_train = pd.read_csv(\"data/mushrooms.csv\")\n",
    "df_test = pd.read_csv(\"data/mushrooms_test.csv\")\n",
    "print(\"训练数据集样本数量:\", len(df_train))\n",
    "print(\"测试数据集样本数量:\", len(df_test))\n",
    "\n",
    "# 显示加载的数据\n",
    "df_train.head(), df_test.head()"
   ]
  },
  {
   "cell_type": "markdown",
   "metadata": {},
   "source": [
    "## 阶段 2: 特征处理\n",
    "在这一阶段，我们将对训练数据和测试数据进行独热编码，并确保测试集的特征与训练集一致。"
   ]
  },
  {
   "cell_type": "code",
   "execution_count": 9,
   "metadata": {},
   "outputs": [
    {
     "name": "stdout",
     "output_type": "stream",
     "text": [
      "\n",
      "特征处理...\n",
      "训练集特征维度: (8000, 117)\n",
      "测试集特征维度: (124, 117)\n"
     ]
    }
   ],
   "source": [
    "print(\"\\n特征处理...\")\n",
    "X_train = pd.get_dummies(df_train.iloc[:, 1:])  # 读取特征并独热编码\n",
    "y_train = df_train['class']  # 目标值\n",
    "X_test = pd.get_dummies(df_test.iloc[:, 1:])  # 测试特征处理并独热编码\n",
    "y_test = df_test['class']  # 测试目标值\n",
    "\n",
    "# 确保测试集的特征与训练集一致\n",
    "X_test = X_test.reindex(columns=X_train.columns, fill_value=0)\n",
    "print(\"训练集特征维度:\", X_train.shape)\n",
    "print(\"测试集特征维度:\", X_test.shape)"
   ]
  },
  {
   "cell_type": "markdown",
   "metadata": {},
   "source": [
    "## 阶段 3: 模型训练\n",
    "在这一阶段，我们将训练一个随机森林模型，并使用交叉验证评估模型的性能。"
   ]
  },
  {
   "cell_type": "code",
   "execution_count": 10,
   "metadata": {},
   "outputs": [
    {
     "name": "stdout",
     "output_type": "stream",
     "text": [
      "\n",
      "训练模型...\n",
      "交叉验证结果: 1.0\n",
      "模型训练完成。\n"
     ]
    }
   ],
   "source": [
    "from sklearn.ensemble import RandomForestClassifier\n",
    "from sklearn.model_selection import cross_val_score\n",
    "\n",
    "print(\"\\n训练模型...\")\n",
    "model = RandomForestClassifier()\n",
    "cross_val_score_result = cross_val_score(model, X_train, y_train, cv=5).mean()\n",
    "print(\"交叉验证结果:\", cross_val_score_result)\n",
    "\n",
    "model.fit(X_train, y_train)\n",
    "print(\"模型训练完成。\")"
   ]
  },
  {
   "cell_type": "markdown",
   "metadata": {},
   "source": [
    "## 阶段 4: 模型验证\n",
    "在这一阶段，我们将使用测试数据集评估模型的准确性。"
   ]
  },
  {
   "cell_type": "code",
   "execution_count": 11,
   "metadata": {},
   "outputs": [
    {
     "name": "stdout",
     "output_type": "stream",
     "text": [
      "\n",
      "验证模型...\n",
      "测试集上的准确率: 1.0\n"
     ]
    }
   ],
   "source": [
    "from sklearn.metrics import accuracy_score\n",
    "\n",
    "print(\"\\n验证模型...\")\n",
    "y_pred = model.predict(X_test)\n",
    "accuracy = accuracy_score(y_test, y_pred)\n",
    "print(\"测试集上的准确率:\", accuracy)"
   ]
  },
  {
   "cell_type": "markdown",
   "metadata": {},
   "source": [
    "## 阶段 5: 保存模型\n",
    "在这一阶段，我们将训练好的模型保存到 `data` 目录下，以便后续使用。"
   ]
  },
  {
   "cell_type": "code",
   "execution_count": 12,
   "metadata": {},
   "outputs": [
    {
     "name": "stdout",
     "output_type": "stream",
     "text": [
      "\n",
      "保存模型和特征列...\n",
      "模型和特征列已保存到 'data' 目录。\n"
     ]
    }
   ],
   "source": [
    "import joblib\n",
    "\n",
    "print(\"\\n保存模型和特征列...\")\n",
    "joblib.dump(model, \"data/mushrooms.pkl\")\n",
    "X_train_columns = X_train.columns.to_list()\n",
    "joblib.dump(X_train_columns, \"data/feature_columns.pkl\")\n",
    "print(\"模型和特征列已保存到 'data' 目录。\")"
   ]
  }
 ],
 "metadata": {
  "kernelspec": {
   "display_name": ".venv",
   "language": "python",
   "name": "python3"
  },
  "language_info": {
   "codemirror_mode": {
    "name": "ipython",
    "version": 3
   },
   "file_extension": ".py",
   "mimetype": "text/x-python",
   "name": "python",
   "nbconvert_exporter": "python",
   "pygments_lexer": "ipython3",
   "version": "3.10.11"
  }
 },
 "nbformat": 4,
 "nbformat_minor": 2
}
